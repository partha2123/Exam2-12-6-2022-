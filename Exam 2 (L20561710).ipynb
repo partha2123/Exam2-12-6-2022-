{
 "cells": [
  {
   "cell_type": "markdown",
   "id": "b725b4e8",
   "metadata": {},
   "source": [
    "## CVEN 5301 \n",
    "## ST: Computational Skills for Engineers\n",
    "## Final Exam 2 \n",
    "## Date: 6/12/2022"
   ]
  },
  {
   "cell_type": "markdown",
   "id": "eb1937be",
   "metadata": {},
   "source": [
    "Submitted to: Dr.Venkatesh Uddameri <br>\n",
    "Submitted by: Partha Protim Roy <br>\n",
    "L ID: L20561710"
   ]
  },
  {
   "cell_type": "markdown",
   "id": "e39da6af",
   "metadata": {},
   "source": [
    "## Problem 1"
   ]
  },
  {
   "cell_type": "code",
   "execution_count": 21,
   "id": "1576f418",
   "metadata": {},
   "outputs": [],
   "source": [
    "#Importing the libraries\n",
    "import numpy as np\n",
    "import matplotlib.pyplot as plt\n",
    "import pandas as pd\n",
    "%matplotlib inline"
   ]
  },
  {
   "cell_type": "code",
   "execution_count": 22,
   "id": "e5440e74",
   "metadata": {},
   "outputs": [],
   "source": [
    "#Definging function for the plot"
   ]
  },
  {
   "cell_type": "code",
   "execution_count": 23,
   "id": "ca373ff7",
   "metadata": {},
   "outputs": [],
   "source": [
    "def Plot_Gringorten(r,N):#function to compute cdf\n",
    "    cdf=(r-0.44)/(n+0.12)\n",
    "    return cdf"
   ]
  },
  {
   "cell_type": "code",
   "execution_count": 24,
   "id": "b0f78716",
   "metadata": {},
   "outputs": [
    {
     "data": {
      "text/html": [
       "<div>\n",
       "<style scoped>\n",
       "    .dataframe tbody tr th:only-of-type {\n",
       "        vertical-align: middle;\n",
       "    }\n",
       "\n",
       "    .dataframe tbody tr th {\n",
       "        vertical-align: top;\n",
       "    }\n",
       "\n",
       "    .dataframe thead th {\n",
       "        text-align: right;\n",
       "    }\n",
       "</style>\n",
       "<table border=\"1\" class=\"dataframe\">\n",
       "  <thead>\n",
       "    <tr style=\"text-align: right;\">\n",
       "      <th></th>\n",
       "      <th>Stream Flow (cfs)</th>\n",
       "    </tr>\n",
       "  </thead>\n",
       "  <tbody>\n",
       "    <tr>\n",
       "      <th>61</th>\n",
       "      <td>9,010</td>\n",
       "    </tr>\n",
       "    <tr>\n",
       "      <th>14</th>\n",
       "      <td>860</td>\n",
       "    </tr>\n",
       "    <tr>\n",
       "      <th>49</th>\n",
       "      <td>8,260</td>\n",
       "    </tr>\n",
       "    <tr>\n",
       "      <th>18</th>\n",
       "      <td>714</td>\n",
       "    </tr>\n",
       "    <tr>\n",
       "      <th>26</th>\n",
       "      <td>7,750</td>\n",
       "    </tr>\n",
       "    <tr>\n",
       "      <th>...</th>\n",
       "      <td>...</td>\n",
       "    </tr>\n",
       "    <tr>\n",
       "      <th>12</th>\n",
       "      <td>1,580</td>\n",
       "    </tr>\n",
       "    <tr>\n",
       "      <th>38</th>\n",
       "      <td>1,560</td>\n",
       "    </tr>\n",
       "    <tr>\n",
       "      <th>23</th>\n",
       "      <td>1,420</td>\n",
       "    </tr>\n",
       "    <tr>\n",
       "      <th>7</th>\n",
       "      <td>1,380</td>\n",
       "    </tr>\n",
       "    <tr>\n",
       "      <th>5</th>\n",
       "      <td>1,220</td>\n",
       "    </tr>\n",
       "  </tbody>\n",
       "</table>\n",
       "<p>65 rows × 1 columns</p>\n",
       "</div>"
      ],
      "text/plain": [
       "   Stream Flow (cfs)\n",
       "61             9,010\n",
       "14               860\n",
       "49             8,260\n",
       "18               714\n",
       "26             7,750\n",
       "..               ...\n",
       "12             1,580\n",
       "38             1,560\n",
       "23             1,420\n",
       "7              1,380\n",
       "5              1,220\n",
       "\n",
       "[65 rows x 1 columns]"
      ]
     },
     "execution_count": 24,
     "metadata": {},
     "output_type": "execute_result"
    }
   ],
   "source": [
    "\n",
    "df=pd.read_csv('data.csv') #readin the data\n",
    "df2=df[['Stream Flow (cfs)']]  #copying it into a dataframe\n",
    "df2.sort_values(by=['Stream Flow (cfs)'],ascending=False)  # Ranking the Data from high to low\n"
   ]
  },
  {
   "cell_type": "code",
   "execution_count": 25,
   "id": "c62e53c6",
   "metadata": {},
   "outputs": [],
   "source": [
    "n = 500 # No of Data points\n",
    "r=50 #putting the rank"
   ]
  },
  {
   "cell_type": "code",
   "execution_count": 26,
   "id": "b49ae298",
   "metadata": {},
   "outputs": [],
   "source": [
    "# initializing random values\n",
    "data = np.random.randn(N)"
   ]
  },
  {
   "cell_type": "code",
   "execution_count": 27,
   "id": "d162378c",
   "metadata": {},
   "outputs": [],
   "source": [
    "# getting data of the histogram\n",
    "count, bins_count = np.histogram(data, bins=10)"
   ]
  },
  {
   "cell_type": "code",
   "execution_count": 28,
   "id": "dc5a0f74",
   "metadata": {},
   "outputs": [
    {
     "ename": "NameError",
     "evalue": "name 'cdf' is not defined",
     "output_type": "error",
     "traceback": [
      "\u001b[1;31m---------------------------------------------------------------------------\u001b[0m",
      "\u001b[1;31mNameError\u001b[0m                                 Traceback (most recent call last)",
      "\u001b[1;32m~\\AppData\\Local\\Temp\\ipykernel_9668\\818426288.py\u001b[0m in \u001b[0;36m<module>\u001b[1;34m\u001b[0m\n\u001b[0;32m      3\u001b[0m \u001b[1;33m\u001b[0m\u001b[0m\n\u001b[0;32m      4\u001b[0m \u001b[1;31m# plotting PDF and CDF\u001b[0m\u001b[1;33m\u001b[0m\u001b[1;33m\u001b[0m\u001b[1;33m\u001b[0m\u001b[0m\n\u001b[1;32m----> 5\u001b[1;33m \u001b[0mplt\u001b[0m\u001b[1;33m.\u001b[0m\u001b[0mplot\u001b[0m\u001b[1;33m(\u001b[0m\u001b[0mbins_count\u001b[0m\u001b[1;33m[\u001b[0m\u001b[1;36m1\u001b[0m\u001b[1;33m:\u001b[0m\u001b[1;33m]\u001b[0m\u001b[1;33m,\u001b[0m \u001b[0mcdf\u001b[0m\u001b[1;33m,\u001b[0m \u001b[0mlabel\u001b[0m\u001b[1;33m=\u001b[0m\u001b[1;34m\"CDF\"\u001b[0m\u001b[1;33m)\u001b[0m\u001b[1;33m\u001b[0m\u001b[1;33m\u001b[0m\u001b[0m\n\u001b[0m\u001b[0;32m      6\u001b[0m \u001b[0mplt\u001b[0m\u001b[1;33m.\u001b[0m\u001b[0mshow\u001b[0m\u001b[1;33m(\u001b[0m\u001b[1;33m)\u001b[0m\u001b[1;33m\u001b[0m\u001b[1;33m\u001b[0m\u001b[0m\n",
      "\u001b[1;31mNameError\u001b[0m: name 'cdf' is not defined"
     ]
    }
   ],
   "source": [
    "CDF=Plot_Gringorten(r,N)\n",
    "\n",
    "  \n",
    "# plotting PDF and CDF\n",
    "plt.plot(bins_count[1:], cdf, label=\"CDF\")\n",
    "plt.show()"
   ]
  },
  {
   "cell_type": "markdown",
   "id": "2b0419eb",
   "metadata": {},
   "source": [
    "Courtesy: https://www.geeksforgeeks.org/how-to-calculate-and-plot-a-cumulative-distribution-function-with-matplotlib-in-python/"
   ]
  },
  {
   "cell_type": "markdown",
   "id": "113eec2a",
   "metadata": {},
   "source": [
    "## Problem 1"
   ]
  },
  {
   "cell_type": "markdown",
   "id": "d5c63cfd",
   "metadata": {},
   "source": [
    "### the simplified equtions are \n",
    "* f2 = ab * 0.707\n",
    "* f1 = - a * 0.707\n",
    "* bc = 0\n",
    "* be = -400 / 0.382\n",
    "* ce = -200/0.707\n",
    "* de =0\n",
    "* cd = -f3/ (0.5*ce)"
   ]
  },
  {
   "cell_type": "code",
   "execution_count": 29,
   "id": "8241c59d",
   "metadata": {},
   "outputs": [
    {
     "data": {
      "text/html": [
       "<div>\n",
       "<style scoped>\n",
       "    .dataframe tbody tr th:only-of-type {\n",
       "        vertical-align: middle;\n",
       "    }\n",
       "\n",
       "    .dataframe tbody tr th {\n",
       "        vertical-align: top;\n",
       "    }\n",
       "\n",
       "    .dataframe thead th {\n",
       "        text-align: right;\n",
       "    }\n",
       "</style>\n",
       "<table border=\"1\" class=\"dataframe\">\n",
       "  <thead>\n",
       "    <tr style=\"text-align: right;\">\n",
       "      <th></th>\n",
       "      <th>k</th>\n",
       "      <th>f1</th>\n",
       "      <th>f2</th>\n",
       "      <th>bc</th>\n",
       "      <th>be</th>\n",
       "      <th>ce</th>\n",
       "      <th>de</th>\n",
       "      <th>cd</th>\n",
       "    </tr>\n",
       "  </thead>\n",
       "  <tbody>\n",
       "    <tr>\n",
       "      <th>0</th>\n",
       "      <td>1</td>\n",
       "      <td>0.0</td>\n",
       "      <td>0.0</td>\n",
       "      <td>0.0</td>\n",
       "      <td>-1047.12</td>\n",
       "      <td>-282.89</td>\n",
       "      <td>0.0</td>\n",
       "      <td>-0.0</td>\n",
       "    </tr>\n",
       "    <tr>\n",
       "      <th>1</th>\n",
       "      <td>2</td>\n",
       "      <td>0.0</td>\n",
       "      <td>0.0</td>\n",
       "      <td>0.0</td>\n",
       "      <td>-1047.12</td>\n",
       "      <td>-282.89</td>\n",
       "      <td>0.0</td>\n",
       "      <td>-0.0</td>\n",
       "    </tr>\n",
       "    <tr>\n",
       "      <th>2</th>\n",
       "      <td>3</td>\n",
       "      <td>0.0</td>\n",
       "      <td>0.0</td>\n",
       "      <td>0.0</td>\n",
       "      <td>-1047.12</td>\n",
       "      <td>-282.89</td>\n",
       "      <td>0.0</td>\n",
       "      <td>-0.0</td>\n",
       "    </tr>\n",
       "    <tr>\n",
       "      <th>3</th>\n",
       "      <td>4</td>\n",
       "      <td>0.0</td>\n",
       "      <td>0.0</td>\n",
       "      <td>0.0</td>\n",
       "      <td>-1047.12</td>\n",
       "      <td>-282.89</td>\n",
       "      <td>0.0</td>\n",
       "      <td>-0.0</td>\n",
       "    </tr>\n",
       "    <tr>\n",
       "      <th>4</th>\n",
       "      <td>5</td>\n",
       "      <td>0.0</td>\n",
       "      <td>0.0</td>\n",
       "      <td>0.0</td>\n",
       "      <td>-1047.12</td>\n",
       "      <td>-282.89</td>\n",
       "      <td>0.0</td>\n",
       "      <td>-0.0</td>\n",
       "    </tr>\n",
       "    <tr>\n",
       "      <th>5</th>\n",
       "      <td>6</td>\n",
       "      <td>0.0</td>\n",
       "      <td>0.0</td>\n",
       "      <td>0.0</td>\n",
       "      <td>-1047.12</td>\n",
       "      <td>-282.89</td>\n",
       "      <td>0.0</td>\n",
       "      <td>-0.0</td>\n",
       "    </tr>\n",
       "    <tr>\n",
       "      <th>6</th>\n",
       "      <td>7</td>\n",
       "      <td>0.0</td>\n",
       "      <td>0.0</td>\n",
       "      <td>0.0</td>\n",
       "      <td>-1047.12</td>\n",
       "      <td>-282.89</td>\n",
       "      <td>0.0</td>\n",
       "      <td>-0.0</td>\n",
       "    </tr>\n",
       "    <tr>\n",
       "      <th>7</th>\n",
       "      <td>8</td>\n",
       "      <td>0.0</td>\n",
       "      <td>0.0</td>\n",
       "      <td>0.0</td>\n",
       "      <td>-1047.12</td>\n",
       "      <td>-282.89</td>\n",
       "      <td>0.0</td>\n",
       "      <td>-0.0</td>\n",
       "    </tr>\n",
       "    <tr>\n",
       "      <th>8</th>\n",
       "      <td>9</td>\n",
       "      <td>0.0</td>\n",
       "      <td>0.0</td>\n",
       "      <td>0.0</td>\n",
       "      <td>-1047.12</td>\n",
       "      <td>-282.89</td>\n",
       "      <td>0.0</td>\n",
       "      <td>-0.0</td>\n",
       "    </tr>\n",
       "    <tr>\n",
       "      <th>9</th>\n",
       "      <td>10</td>\n",
       "      <td>0.0</td>\n",
       "      <td>0.0</td>\n",
       "      <td>0.0</td>\n",
       "      <td>-1047.12</td>\n",
       "      <td>-282.89</td>\n",
       "      <td>0.0</td>\n",
       "      <td>-0.0</td>\n",
       "    </tr>\n",
       "  </tbody>\n",
       "</table>\n",
       "</div>"
      ],
      "text/plain": [
       "    k   f1   f2   bc       be      ce   de   cd\n",
       "0   1  0.0  0.0  0.0 -1047.12 -282.89  0.0 -0.0\n",
       "1   2  0.0  0.0  0.0 -1047.12 -282.89  0.0 -0.0\n",
       "2   3  0.0  0.0  0.0 -1047.12 -282.89  0.0 -0.0\n",
       "3   4  0.0  0.0  0.0 -1047.12 -282.89  0.0 -0.0\n",
       "4   5  0.0  0.0  0.0 -1047.12 -282.89  0.0 -0.0\n",
       "5   6  0.0  0.0  0.0 -1047.12 -282.89  0.0 -0.0\n",
       "6   7  0.0  0.0  0.0 -1047.12 -282.89  0.0 -0.0\n",
       "7   8  0.0  0.0  0.0 -1047.12 -282.89  0.0 -0.0\n",
       "8   9  0.0  0.0  0.0 -1047.12 -282.89  0.0 -0.0\n",
       "9  10  0.0  0.0  0.0 -1047.12 -282.89  0.0 -0.0"
      ]
     },
     "execution_count": 29,
     "metadata": {},
     "output_type": "execute_result"
    }
   ],
   "source": [
    "#import libraries\n",
    "import pandas as pd\n",
    "import numpy as np\n",
    "\n",
    "#-------------Question 1------------------\n",
    "# define the function equation_solution \n",
    "def equation_solution(k):\n",
    "    # used a list to store results of the equations\n",
    "    result = []\n",
    "    f1= 0\n",
    "    f2= 0\n",
    "    bc= 0\n",
    "    be=0\n",
    "    ce=0\n",
    "    de=0\n",
    "    cd = 0\n",
    "    a = 0\n",
    "    b = 0\n",
    "    f = 0\n",
    "    # iterated through the eqution with k\n",
    "    for i in range(1, k+1):\n",
    "        f2 = a*b * 0.707\n",
    "        f1 = - a * 0.707\n",
    "        bc = 0\n",
    "        be = -400 / 0.382\n",
    "        ce = -200/0.707\n",
    "        de =0\n",
    "        cd = -f*3/ (0.5*ce)\n",
    "        # appending the results in the result list with the k index\n",
    "        result.append([i, float(\"{:.2f}\".format(f1)), float(\"{:.2f}\".format(f2)), float(\"{:.2f}\".format(bc)),float(\"{:.2f}\".format(be)), float(\"{:.2f}\".format(ce)),float(\"{:.2f}\".format(de)),float(\"{:.2f}\".format(cd))])\n",
    "    #storing the result inthe pandas dataframe\n",
    "    df = pd.DataFrame(result, columns =['k','f1', 'f2','bc','be','ce','de','cd']) \n",
    "    return df\n",
    "df=equation_solution(10)\n",
    "df\n"
   ]
  },
  {
   "cell_type": "code",
   "execution_count": null,
   "id": "fdcdd755",
   "metadata": {},
   "outputs": [],
   "source": []
  }
 ],
 "metadata": {
  "kernelspec": {
   "display_name": "Python 3 (ipykernel)",
   "language": "python",
   "name": "python3"
  },
  "language_info": {
   "codemirror_mode": {
    "name": "ipython",
    "version": 3
   },
   "file_extension": ".py",
   "mimetype": "text/x-python",
   "name": "python",
   "nbconvert_exporter": "python",
   "pygments_lexer": "ipython3",
   "version": "3.8.15"
  }
 },
 "nbformat": 4,
 "nbformat_minor": 5
}
