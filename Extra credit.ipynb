{
 "cells": [
  {
   "cell_type": "code",
   "execution_count": 4,
   "id": "60983995",
   "metadata": {},
   "outputs": [
    {
     "ename": "SyntaxError",
     "evalue": "invalid syntax (591872413.py, line 16)",
     "output_type": "error",
     "traceback": [
      "\u001b[1;36m  File \u001b[1;32m\"C:\\Users\\user\\AppData\\Local\\Temp\\ipykernel_18444\\591872413.py\"\u001b[1;36m, line \u001b[1;32m16\u001b[0m\n\u001b[1;33m    Qx = (1.49/n)*0.5*(L1+L2)*h*(0.5*(L1+L2)*h*0.707)/(0.707*(2h+0.707+L2))**(2/3)*s**0.5\u001b[0m\n\u001b[1;37m                                                               ^\u001b[0m\n\u001b[1;31mSyntaxError\u001b[0m\u001b[1;31m:\u001b[0m invalid syntax\n"
     ]
    }
   ],
   "source": [
    "# Import libraries\n",
    "import math\n",
    "import numpy as np\n",
    "\n",
    "# Define function Q\n",
    "# Assuming L1 = top width, L2 = base width, h = depth of water, \n",
    "\n",
    "def Q(n,A,R,S):\n",
    "    n =0.02\n",
    "    s = 0.03\n",
    "   # R = A/P = (0.5*(L1+L2)*h*0.707)/(0.707*(2h+0.707+L2))\n",
    "   # A = 0.5*(L1+L2)*h\n",
    "   # P = (2h/0.707)+L2\n",
    "    \n",
    "    \n",
    "    Qx = (1.49/n)*0.5*(L1+L2)*h*(0.5*(L1+L2)*h*0.707)/(0.707*(2h+0.707+L2))**(2/3)*s**0.5\n",
    "    \n",
    "    return(Qx)\n"
   ]
  },
  {
   "cell_type": "code",
   "execution_count": null,
   "id": "64743e9d",
   "metadata": {},
   "outputs": [],
   "source": [
    "Q = 15000 #cfs\n",
    "x = random.randint(0, 9)\n"
   ]
  }
 ],
 "metadata": {
  "kernelspec": {
   "display_name": "Python 3 (ipykernel)",
   "language": "python",
   "name": "python3"
  },
  "language_info": {
   "codemirror_mode": {
    "name": "ipython",
    "version": 3
   },
   "file_extension": ".py",
   "mimetype": "text/x-python",
   "name": "python",
   "nbconvert_exporter": "python",
   "pygments_lexer": "ipython3",
   "version": "3.8.15"
  }
 },
 "nbformat": 4,
 "nbformat_minor": 5
}
